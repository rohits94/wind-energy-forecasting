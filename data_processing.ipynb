{
 "cells": [
  {
   "cell_type": "markdown",
   "id": "answering-coast",
   "metadata": {},
   "source": [
    "Data formatting for time series analysis of [German wind power generation](https://www.kaggle.com/jorgesandoval/wind-power-generation).\n",
    "\n",
    "Changing files from column-based (with one row per date and one column per 15-minute interval) to row-based (such that each row indicates wind power generation at 15-minute intervals). Wind power generation in terawatt-hours (TWh)."
   ]
  },
  {
   "cell_type": "code",
   "execution_count": 1,
   "id": "selected-frontier",
   "metadata": {},
   "outputs": [],
   "source": [
    "import os\n",
    "import numpy as np\n",
    "import pandas as pd"
   ]
  },
  {
   "cell_type": "code",
   "execution_count": 28,
   "id": "answering-rates",
   "metadata": {},
   "outputs": [],
   "source": [
    "path = '/Users/rohitsatishchandra/Desktop/MScA/Winter_2021/Time_Series/Assignments/final_project/data'\n",
    "os.chdir(path)"
   ]
  },
  {
   "cell_type": "code",
   "execution_count": 29,
   "id": "honest-compilation",
   "metadata": {},
   "outputs": [
    {
     "data": {
      "text/plain": [
       "'/Users/rohitsatishchandra/Desktop/MScA/Winter_2021/Time_Series/Assignments/final_project/data'"
      ]
     },
     "execution_count": 29,
     "metadata": {},
     "output_type": "execute_result"
    }
   ],
   "source": [
    "os.getcwd()"
   ]
  },
  {
   "cell_type": "code",
   "execution_count": 4,
   "id": "analyzed-millennium",
   "metadata": {},
   "outputs": [],
   "source": [
    "def file_transpose(input_file_path, output_file_path):\n",
    "    \"\"\"\n",
    "    convert column-based time series matrix to row-based\n",
    "    each row will indicate power generation at 15 minute interval\n",
    "    \"\"\"\n",
    "    with open(input_file_path, \"r\") as input_file, open(output_file_path, \"w\") as output_file:\n",
    "        # skip header\n",
    "        next(input_file)\n",
    "        # initiate line as first non-header row of input file\n",
    "        line = input_file.readline().strip()\n",
    "        # while line is not empty string (indicating end of file):\n",
    "        while(line):\n",
    "            # write a line to the output file with each value (except date) separated by new line\n",
    "            output_file.write(\"\\n\".join(line.split(\",\")[1:]) + \"\\n\")\n",
    "            # read next line from raw input file\n",
    "            line = input_file.readline().strip()"
   ]
  },
  {
   "cell_type": "code",
   "execution_count": 54,
   "id": "straight-model",
   "metadata": {},
   "outputs": [],
   "source": [
    "def file_transpose_daily(input_file_path, output_file_path):\n",
    "    \"\"\"\n",
    "    convert column-based time series matrix to row-based\n",
    "    each row will indicate daily power generation\n",
    "    \"\"\"\n",
    "    with open(input_file_path, \"r\") as input_file, open(output_file_path, \"w\") as output_file:\n",
    "        # skip header\n",
    "        next(input_file)\n",
    "        # initiate line as first non-header row of input file\n",
    "        line = input_file.readline().strip()\n",
    "        # while line is not empty string (indicating end of file):\n",
    "        while(line):\n",
    "            # sum values in each line to get daily production amount\n",
    "            daily_sum = sum(map(float, line.split(\",\")[1:]))\n",
    "            # write a line to the output file with each value (except date) separated by new line\n",
    "            output_file.write(f\"{daily_sum}\\n\")\n",
    "            # read next line from raw input file\n",
    "            line = input_file.readline().strip()"
   ]
  },
  {
   "cell_type": "code",
   "execution_count": 6,
   "id": "supposed-roller",
   "metadata": {},
   "outputs": [],
   "source": [
    "def hourly_transform(col, df, output_path, start_time='08/23/2019 00:00:00', end_time='09/22/2020 23:00:00'):\n",
    "    \"\"\"\n",
    "    produce dataframe of hourly total power generation \n",
    "    and mean of 15-minute interval power measures per hour\n",
    "    write dataframe to csv\n",
    "    \"\"\"\n",
    "    hourly_total_series = col.groupby(col.index // 4).sum()\n",
    "    hourly_mean_series = col.groupby(col.index // 4).mean()\n",
    "    df['time'] = pd.date_range(start=start_time, end=end_time, freq='H')\n",
    "    df.to_csv(output_path, index=False)\n",
    "    return df"
   ]
  },
  {
   "cell_type": "code",
   "execution_count": 7,
   "id": "exotic-business",
   "metadata": {},
   "outputs": [
    {
     "name": "stdout",
     "output_type": "stream",
     "text": [
      "[('./Amprion.csv', ('./Amprion_out.csv', './Amprion_daily.csv', './Amprion_hourly.csv')), ('./TenneTTSO.csv', ('./TenneTTSO_out.csv', './TenneTTSO_daily.csv', './TenneTTSO_hourly.csv')), ('./TransnetBW.csv', ('./TransnetBW_out.csv', './TransnetBW_daily.csv', './TransnetBW_hourly.csv'))]\n"
     ]
    }
   ],
   "source": [
    "input_file_paths = ['./Amprion.csv', './TenneTTSO.csv', './TransnetBW.csv']\n",
    "output_file_paths = [('./Amprion_out.csv', './Amprion_daily.csv', './Amprion_hourly.csv'),\n",
    "                     ('./TenneTTSO_out.csv', './TenneTTSO_daily.csv', './TenneTTSO_hourly.csv' ),\n",
    "                     ('./TransnetBW_out.csv', './TransnetBW_daily.csv', './TransnetBW_hourly.csv')]\n",
    "\n",
    "paths = list(zip(input_file_paths, output_file_paths))\n",
    "print(paths)"
   ]
  },
  {
   "cell_type": "code",
   "execution_count": 8,
   "id": "lasting-pendant",
   "metadata": {},
   "outputs": [
    {
     "data": {
      "text/plain": [
       "('./Amprion.csv',\n",
       " ('./Amprion_out.csv', './Amprion_daily.csv', './Amprion_hourly.csv'))"
      ]
     },
     "execution_count": 8,
     "metadata": {},
     "output_type": "execute_result"
    }
   ],
   "source": [
    "paths[0]"
   ]
  },
  {
   "cell_type": "code",
   "execution_count": 9,
   "id": "coral-effectiveness",
   "metadata": {},
   "outputs": [
    {
     "data": {
      "text/plain": [
       "'./Amprion_hourly.csv'"
      ]
     },
     "execution_count": 9,
     "metadata": {},
     "output_type": "execute_result"
    }
   ],
   "source": [
    "paths[0][1][2]"
   ]
  },
  {
   "cell_type": "code",
   "execution_count": 11,
   "id": "compatible-singles",
   "metadata": {},
   "outputs": [
    {
     "name": "stdout",
     "output_type": "stream",
     "text": [
      "Created column-based CSV.\n",
      "Created daily CSV.\n",
      "Created column-based CSV.\n"
     ]
    },
    {
     "ename": "ValueError",
     "evalue": "invalid literal for int() with base 10: '9.68'",
     "output_type": "error",
     "traceback": [
      "\u001b[0;31m---------------------------------------------------------------------------\u001b[0m",
      "\u001b[0;31mValueError\u001b[0m                                Traceback (most recent call last)",
      "\u001b[0;32m<ipython-input-11-912ac5d0f2a1>\u001b[0m in \u001b[0;36m<module>\u001b[0;34m\u001b[0m\n\u001b[1;32m      2\u001b[0m     \u001b[0mfile_transpose\u001b[0m\u001b[0;34m(\u001b[0m\u001b[0mpath\u001b[0m\u001b[0;34m[\u001b[0m\u001b[0;36m0\u001b[0m\u001b[0;34m]\u001b[0m\u001b[0;34m,\u001b[0m \u001b[0mpath\u001b[0m\u001b[0;34m[\u001b[0m\u001b[0;36m1\u001b[0m\u001b[0;34m]\u001b[0m\u001b[0;34m[\u001b[0m\u001b[0;36m0\u001b[0m\u001b[0;34m]\u001b[0m\u001b[0;34m)\u001b[0m\u001b[0;34m\u001b[0m\u001b[0;34m\u001b[0m\u001b[0m\n\u001b[1;32m      3\u001b[0m     \u001b[0mprint\u001b[0m\u001b[0;34m(\u001b[0m\u001b[0;34m\"Created column-based CSV.\"\u001b[0m\u001b[0;34m)\u001b[0m\u001b[0;34m\u001b[0m\u001b[0;34m\u001b[0m\u001b[0m\n\u001b[0;32m----> 4\u001b[0;31m     \u001b[0mfile_transpose_daily\u001b[0m\u001b[0;34m(\u001b[0m\u001b[0mpath\u001b[0m\u001b[0;34m[\u001b[0m\u001b[0;36m0\u001b[0m\u001b[0;34m]\u001b[0m\u001b[0;34m,\u001b[0m \u001b[0mpath\u001b[0m\u001b[0;34m[\u001b[0m\u001b[0;36m1\u001b[0m\u001b[0;34m]\u001b[0m\u001b[0;34m[\u001b[0m\u001b[0;36m1\u001b[0m\u001b[0;34m]\u001b[0m\u001b[0;34m)\u001b[0m\u001b[0;34m\u001b[0m\u001b[0;34m\u001b[0m\u001b[0m\n\u001b[0m\u001b[1;32m      5\u001b[0m     \u001b[0mprint\u001b[0m\u001b[0;34m(\u001b[0m\u001b[0;34m\"Created daily CSV.\"\u001b[0m\u001b[0;34m)\u001b[0m\u001b[0;34m\u001b[0m\u001b[0;34m\u001b[0m\u001b[0m\n\u001b[1;32m      6\u001b[0m     \u001b[0;31m#power_df = pd.read_csv(path[1][0], header=None, names=['power_twh'])\u001b[0m\u001b[0;34m\u001b[0m\u001b[0;34m\u001b[0m\u001b[0;34m\u001b[0m\u001b[0m\n",
      "\u001b[0;32m<ipython-input-5-8ffc1dff7301>\u001b[0m in \u001b[0;36mfile_transpose_daily\u001b[0;34m(input_file_path, output_file_path)\u001b[0m\n\u001b[1;32m     12\u001b[0m         \u001b[0;32mwhile\u001b[0m\u001b[0;34m(\u001b[0m\u001b[0mline\u001b[0m\u001b[0;34m)\u001b[0m\u001b[0;34m:\u001b[0m\u001b[0;34m\u001b[0m\u001b[0;34m\u001b[0m\u001b[0m\n\u001b[1;32m     13\u001b[0m             \u001b[0;31m# sum values in each line to get daily production amount\u001b[0m\u001b[0;34m\u001b[0m\u001b[0;34m\u001b[0m\u001b[0;34m\u001b[0m\u001b[0m\n\u001b[0;32m---> 14\u001b[0;31m             \u001b[0mdaily_sum\u001b[0m \u001b[0;34m=\u001b[0m \u001b[0msum\u001b[0m\u001b[0;34m(\u001b[0m\u001b[0mmap\u001b[0m\u001b[0;34m(\u001b[0m\u001b[0mint\u001b[0m\u001b[0;34m,\u001b[0m \u001b[0mline\u001b[0m\u001b[0;34m.\u001b[0m\u001b[0msplit\u001b[0m\u001b[0;34m(\u001b[0m\u001b[0;34m\",\"\u001b[0m\u001b[0;34m)\u001b[0m\u001b[0;34m[\u001b[0m\u001b[0;36m1\u001b[0m\u001b[0;34m:\u001b[0m\u001b[0;34m]\u001b[0m\u001b[0;34m)\u001b[0m\u001b[0;34m)\u001b[0m\u001b[0;34m\u001b[0m\u001b[0;34m\u001b[0m\u001b[0m\n\u001b[0m\u001b[1;32m     15\u001b[0m             \u001b[0;31m# write a line to the output file with each value (except date) separated by new line\u001b[0m\u001b[0;34m\u001b[0m\u001b[0;34m\u001b[0m\u001b[0;34m\u001b[0m\u001b[0m\n\u001b[1;32m     16\u001b[0m             \u001b[0moutput_file\u001b[0m\u001b[0;34m.\u001b[0m\u001b[0mwrite\u001b[0m\u001b[0;34m(\u001b[0m\u001b[0;34mf\"{daily_sum}\\n\"\u001b[0m\u001b[0;34m)\u001b[0m\u001b[0;34m\u001b[0m\u001b[0;34m\u001b[0m\u001b[0m\n",
      "\u001b[0;31mValueError\u001b[0m: invalid literal for int() with base 10: '9.68'"
     ]
    }
   ],
   "source": [
    "for path in paths:\n",
    "    file_transpose(path[0], path[1][0])\n",
    "    print(\"Created column-based CSV.\")\n",
    "    file_transpose_daily(path[0], path[1][1])\n",
    "    print(\"Created daily CSV.\")\n",
    "    #power_df = pd.read_csv(path[1][0], header=None, names=['power_twh'])\n",
    "    #hourly_transform(power_df['power_twh'], power_df, output_path=path[1][2], start_time='08/23/2019 00:00:00', end_time='09/22/2020 23:00:00')\n",
    "    #print(\"Created hourly CSV.\")"
   ]
  },
  {
   "cell_type": "markdown",
   "id": "early-crystal",
   "metadata": {},
   "source": [
    "## amprion"
   ]
  },
  {
   "cell_type": "code",
   "execution_count": 15,
   "id": "experienced-affect",
   "metadata": {},
   "outputs": [
    {
     "data": {
      "text/plain": [
       "(397, 1)"
      ]
     },
     "execution_count": 15,
     "metadata": {},
     "output_type": "execute_result"
    }
   ],
   "source": [
    "amprion_daily = pd.read_csv('Amprion_daily.csv', header=None, names=['daily_power_twh'])\n",
    "amprion_daily.shape"
   ]
  },
  {
   "cell_type": "code",
   "execution_count": 16,
   "id": "covered-jones",
   "metadata": {},
   "outputs": [
    {
     "data": {
      "text/html": [
       "<div>\n",
       "<style scoped>\n",
       "    .dataframe tbody tr th:only-of-type {\n",
       "        vertical-align: middle;\n",
       "    }\n",
       "\n",
       "    .dataframe tbody tr th {\n",
       "        vertical-align: top;\n",
       "    }\n",
       "\n",
       "    .dataframe thead th {\n",
       "        text-align: right;\n",
       "    }\n",
       "</style>\n",
       "<table border=\"1\" class=\"dataframe\">\n",
       "  <thead>\n",
       "    <tr style=\"text-align: right;\">\n",
       "      <th></th>\n",
       "      <th>daily_power_twh</th>\n",
       "    </tr>\n",
       "  </thead>\n",
       "  <tbody>\n",
       "    <tr>\n",
       "      <th>0</th>\n",
       "      <td>2262</td>\n",
       "    </tr>\n",
       "    <tr>\n",
       "      <th>1</th>\n",
       "      <td>3157</td>\n",
       "    </tr>\n",
       "    <tr>\n",
       "      <th>2</th>\n",
       "      <td>1426</td>\n",
       "    </tr>\n",
       "    <tr>\n",
       "      <th>3</th>\n",
       "      <td>1195</td>\n",
       "    </tr>\n",
       "    <tr>\n",
       "      <th>4</th>\n",
       "      <td>1490</td>\n",
       "    </tr>\n",
       "  </tbody>\n",
       "</table>\n",
       "</div>"
      ],
      "text/plain": [
       "   daily_power_twh\n",
       "0             2262\n",
       "1             3157\n",
       "2             1426\n",
       "3             1195\n",
       "4             1490"
      ]
     },
     "execution_count": 16,
     "metadata": {},
     "output_type": "execute_result"
    }
   ],
   "source": [
    "amprion_daily.head()"
   ]
  },
  {
   "cell_type": "code",
   "execution_count": 17,
   "id": "turned-honey",
   "metadata": {},
   "outputs": [],
   "source": [
    "amprion_qtr_hour_pwr = pd.read_csv('./Amprion_out.csv', header=None, names=['power_twh'])"
   ]
  },
  {
   "cell_type": "code",
   "execution_count": 18,
   "id": "peaceful-reserve",
   "metadata": {},
   "outputs": [
    {
     "data": {
      "text/plain": [
       "(38112, 1)"
      ]
     },
     "execution_count": 18,
     "metadata": {},
     "output_type": "execute_result"
    }
   ],
   "source": [
    "amprion_qtr_hour_pwr.shape"
   ]
  },
  {
   "cell_type": "code",
   "execution_count": 19,
   "id": "instructional-coating",
   "metadata": {},
   "outputs": [
    {
     "data": {
      "text/html": [
       "<div>\n",
       "<style scoped>\n",
       "    .dataframe tbody tr th:only-of-type {\n",
       "        vertical-align: middle;\n",
       "    }\n",
       "\n",
       "    .dataframe tbody tr th {\n",
       "        vertical-align: top;\n",
       "    }\n",
       "\n",
       "    .dataframe thead th {\n",
       "        text-align: right;\n",
       "    }\n",
       "</style>\n",
       "<table border=\"1\" class=\"dataframe\">\n",
       "  <thead>\n",
       "    <tr style=\"text-align: right;\">\n",
       "      <th></th>\n",
       "      <th>power_twh</th>\n",
       "    </tr>\n",
       "  </thead>\n",
       "  <tbody>\n",
       "    <tr>\n",
       "      <th>0</th>\n",
       "      <td>5</td>\n",
       "    </tr>\n",
       "    <tr>\n",
       "      <th>1</th>\n",
       "      <td>5</td>\n",
       "    </tr>\n",
       "    <tr>\n",
       "      <th>2</th>\n",
       "      <td>6</td>\n",
       "    </tr>\n",
       "    <tr>\n",
       "      <th>3</th>\n",
       "      <td>7</td>\n",
       "    </tr>\n",
       "    <tr>\n",
       "      <th>4</th>\n",
       "      <td>6</td>\n",
       "    </tr>\n",
       "  </tbody>\n",
       "</table>\n",
       "</div>"
      ],
      "text/plain": [
       "   power_twh\n",
       "0          5\n",
       "1          5\n",
       "2          6\n",
       "3          7\n",
       "4          6"
      ]
     },
     "execution_count": 19,
     "metadata": {},
     "output_type": "execute_result"
    }
   ],
   "source": [
    "amprion_qtr_hour_pwr.head()"
   ]
  },
  {
   "cell_type": "code",
   "execution_count": 20,
   "id": "boolean-shower",
   "metadata": {},
   "outputs": [],
   "source": [
    "amprion_hourly_total = qtr_hour_pwr['power_twh'].groupby(qtr_hour_pwr['power_twh'].index // 4).sum()"
   ]
  },
  {
   "cell_type": "code",
   "execution_count": 21,
   "id": "understanding-correction",
   "metadata": {},
   "outputs": [],
   "source": [
    "amprion_hourly_mean = qtr_hour_pwr['power_twh'].groupby(qtr_hour_pwr['power_twh'].index // 4).mean()"
   ]
  },
  {
   "cell_type": "code",
   "execution_count": 22,
   "id": "southwest-distinction",
   "metadata": {},
   "outputs": [],
   "source": [
    "amprion_hourly = pd.DataFrame(\n",
    "    {'hourly_total': amprion_hourly_total,\n",
    "     'hourly_mean': amprion_hourly_mean}\n",
    ")"
   ]
  },
  {
   "cell_type": "code",
   "execution_count": 23,
   "id": "chronic-beauty",
   "metadata": {},
   "outputs": [],
   "source": [
    "amprion_hourly['time'] = pd.date_range(start='08/23/2019 00:00:00', end='09/22/2020 23:00:00', freq='H')"
   ]
  },
  {
   "cell_type": "code",
   "execution_count": 24,
   "id": "sorted-investigator",
   "metadata": {},
   "outputs": [],
   "source": [
    "amprion_hourly = amprion_hourly[['time', 'hourly_total', 'hourly_mean']]"
   ]
  },
  {
   "cell_type": "code",
   "execution_count": 25,
   "id": "democratic-preservation",
   "metadata": {},
   "outputs": [
    {
     "data": {
      "text/plain": [
       "(9528, 3)"
      ]
     },
     "execution_count": 25,
     "metadata": {},
     "output_type": "execute_result"
    }
   ],
   "source": [
    "amprion_hourly.shape"
   ]
  },
  {
   "cell_type": "code",
   "execution_count": 26,
   "id": "pleasant-rates",
   "metadata": {},
   "outputs": [
    {
     "data": {
      "text/html": [
       "<div>\n",
       "<style scoped>\n",
       "    .dataframe tbody tr th:only-of-type {\n",
       "        vertical-align: middle;\n",
       "    }\n",
       "\n",
       "    .dataframe tbody tr th {\n",
       "        vertical-align: top;\n",
       "    }\n",
       "\n",
       "    .dataframe thead th {\n",
       "        text-align: right;\n",
       "    }\n",
       "</style>\n",
       "<table border=\"1\" class=\"dataframe\">\n",
       "  <thead>\n",
       "    <tr style=\"text-align: right;\">\n",
       "      <th></th>\n",
       "      <th>time</th>\n",
       "      <th>hourly_total</th>\n",
       "      <th>hourly_mean</th>\n",
       "    </tr>\n",
       "  </thead>\n",
       "  <tbody>\n",
       "    <tr>\n",
       "      <th>0</th>\n",
       "      <td>2019-08-23 00:00:00</td>\n",
       "      <td>23</td>\n",
       "      <td>5.75</td>\n",
       "    </tr>\n",
       "    <tr>\n",
       "      <th>1</th>\n",
       "      <td>2019-08-23 01:00:00</td>\n",
       "      <td>21</td>\n",
       "      <td>5.25</td>\n",
       "    </tr>\n",
       "    <tr>\n",
       "      <th>2</th>\n",
       "      <td>2019-08-23 02:00:00</td>\n",
       "      <td>18</td>\n",
       "      <td>4.50</td>\n",
       "    </tr>\n",
       "    <tr>\n",
       "      <th>3</th>\n",
       "      <td>2019-08-23 03:00:00</td>\n",
       "      <td>17</td>\n",
       "      <td>4.25</td>\n",
       "    </tr>\n",
       "    <tr>\n",
       "      <th>4</th>\n",
       "      <td>2019-08-23 04:00:00</td>\n",
       "      <td>24</td>\n",
       "      <td>6.00</td>\n",
       "    </tr>\n",
       "  </tbody>\n",
       "</table>\n",
       "</div>"
      ],
      "text/plain": [
       "                 time  hourly_total  hourly_mean\n",
       "0 2019-08-23 00:00:00            23         5.75\n",
       "1 2019-08-23 01:00:00            21         5.25\n",
       "2 2019-08-23 02:00:00            18         4.50\n",
       "3 2019-08-23 03:00:00            17         4.25\n",
       "4 2019-08-23 04:00:00            24         6.00"
      ]
     },
     "execution_count": 26,
     "metadata": {},
     "output_type": "execute_result"
    }
   ],
   "source": [
    "amprion_hourly.head()"
   ]
  },
  {
   "cell_type": "code",
   "execution_count": 30,
   "id": "completed-allen",
   "metadata": {},
   "outputs": [],
   "source": [
    "amprion_hourly.to_csv('./Amprion_hourly.csv', index=False)"
   ]
  },
  {
   "cell_type": "markdown",
   "id": "favorite-commissioner",
   "metadata": {},
   "source": [
    "## TenneTTSO"
   ]
  },
  {
   "cell_type": "code",
   "execution_count": 59,
   "id": "waiting-customs",
   "metadata": {},
   "outputs": [],
   "source": [
    "file_transpose_daily('./TenneTTSO.csv', './TenneTTSO_daily.csv')"
   ]
  },
  {
   "cell_type": "code",
   "execution_count": 60,
   "id": "verbal-supplier",
   "metadata": {},
   "outputs": [
    {
     "data": {
      "text/plain": [
       "(397, 1)"
      ]
     },
     "execution_count": 60,
     "metadata": {},
     "output_type": "execute_result"
    }
   ],
   "source": [
    "tennet_daily = pd.read_csv('TenneTTSO_daily.csv', header=None, names=['daily_power_twh'])\n",
    "tennet_daily.shape"
   ]
  },
  {
   "cell_type": "code",
   "execution_count": 61,
   "id": "tropical-frame",
   "metadata": {},
   "outputs": [
    {
     "data": {
      "text/html": [
       "<div>\n",
       "<style scoped>\n",
       "    .dataframe tbody tr th:only-of-type {\n",
       "        vertical-align: middle;\n",
       "    }\n",
       "\n",
       "    .dataframe tbody tr th {\n",
       "        vertical-align: top;\n",
       "    }\n",
       "\n",
       "    .dataframe thead th {\n",
       "        text-align: right;\n",
       "    }\n",
       "</style>\n",
       "<table border=\"1\" class=\"dataframe\">\n",
       "  <thead>\n",
       "    <tr style=\"text-align: right;\">\n",
       "      <th></th>\n",
       "      <th>daily_power_twh</th>\n",
       "    </tr>\n",
       "  </thead>\n",
       "  <tbody>\n",
       "    <tr>\n",
       "      <th>0</th>\n",
       "      <td>2655.76</td>\n",
       "    </tr>\n",
       "    <tr>\n",
       "      <th>1</th>\n",
       "      <td>6567.33</td>\n",
       "    </tr>\n",
       "    <tr>\n",
       "      <th>2</th>\n",
       "      <td>3501.63</td>\n",
       "    </tr>\n",
       "    <tr>\n",
       "      <th>3</th>\n",
       "      <td>3402.77</td>\n",
       "    </tr>\n",
       "    <tr>\n",
       "      <th>4</th>\n",
       "      <td>3346.76</td>\n",
       "    </tr>\n",
       "  </tbody>\n",
       "</table>\n",
       "</div>"
      ],
      "text/plain": [
       "   daily_power_twh\n",
       "0          2655.76\n",
       "1          6567.33\n",
       "2          3501.63\n",
       "3          3402.77\n",
       "4          3346.76"
      ]
     },
     "execution_count": 61,
     "metadata": {},
     "output_type": "execute_result"
    }
   ],
   "source": [
    "tennet_daily.head()"
   ]
  },
  {
   "cell_type": "code",
   "execution_count": 62,
   "id": "australian-laugh",
   "metadata": {},
   "outputs": [],
   "source": [
    "file_transpose('./TenneTTSO.csv', './TenneTTSO_out.csv')"
   ]
  },
  {
   "cell_type": "code",
   "execution_count": 63,
   "id": "geographic-praise",
   "metadata": {},
   "outputs": [],
   "source": [
    "tennet_qtr_hour_pwr = pd.read_csv('./TenneTTSO_out.csv', header=None, names=['power_twh'])"
   ]
  },
  {
   "cell_type": "code",
   "execution_count": 64,
   "id": "sacred-leisure",
   "metadata": {},
   "outputs": [
    {
     "data": {
      "text/plain": [
       "(38112, 1)"
      ]
     },
     "execution_count": 64,
     "metadata": {},
     "output_type": "execute_result"
    }
   ],
   "source": [
    "tennet_qtr_hour_pwr.shape"
   ]
  },
  {
   "cell_type": "code",
   "execution_count": 65,
   "id": "arbitrary-cleaning",
   "metadata": {},
   "outputs": [
    {
     "data": {
      "text/html": [
       "<div>\n",
       "<style scoped>\n",
       "    .dataframe tbody tr th:only-of-type {\n",
       "        vertical-align: middle;\n",
       "    }\n",
       "\n",
       "    .dataframe tbody tr th {\n",
       "        vertical-align: top;\n",
       "    }\n",
       "\n",
       "    .dataframe thead th {\n",
       "        text-align: right;\n",
       "    }\n",
       "</style>\n",
       "<table border=\"1\" class=\"dataframe\">\n",
       "  <thead>\n",
       "    <tr style=\"text-align: right;\">\n",
       "      <th></th>\n",
       "      <th>power_twh</th>\n",
       "    </tr>\n",
       "  </thead>\n",
       "  <tbody>\n",
       "    <tr>\n",
       "      <th>0</th>\n",
       "      <td>9.68</td>\n",
       "    </tr>\n",
       "    <tr>\n",
       "      <th>1</th>\n",
       "      <td>10.16</td>\n",
       "    </tr>\n",
       "    <tr>\n",
       "      <th>2</th>\n",
       "      <td>10.94</td>\n",
       "    </tr>\n",
       "    <tr>\n",
       "      <th>3</th>\n",
       "      <td>11.39</td>\n",
       "    </tr>\n",
       "    <tr>\n",
       "      <th>4</th>\n",
       "      <td>12.09</td>\n",
       "    </tr>\n",
       "  </tbody>\n",
       "</table>\n",
       "</div>"
      ],
      "text/plain": [
       "   power_twh\n",
       "0       9.68\n",
       "1      10.16\n",
       "2      10.94\n",
       "3      11.39\n",
       "4      12.09"
      ]
     },
     "execution_count": 65,
     "metadata": {},
     "output_type": "execute_result"
    }
   ],
   "source": [
    "tennet_qtr_hour_pwr.head()"
   ]
  },
  {
   "cell_type": "code",
   "execution_count": 66,
   "id": "devoted-airport",
   "metadata": {},
   "outputs": [],
   "source": [
    "tennet_hourly_total = tennet_qtr_hour_pwr['power_twh'].groupby(tennet_qtr_hour_pwr['power_twh'].index // 4).sum()"
   ]
  },
  {
   "cell_type": "code",
   "execution_count": 67,
   "id": "adverse-prague",
   "metadata": {},
   "outputs": [],
   "source": [
    "tennet_hourly_mean = tennet_qtr_hour_pwr['power_twh'].groupby(tennet_qtr_hour_pwr['power_twh'].index // 4).mean()"
   ]
  },
  {
   "cell_type": "code",
   "execution_count": 68,
   "id": "spatial-fundamental",
   "metadata": {},
   "outputs": [],
   "source": [
    "tennet_hourly = pd.DataFrame(\n",
    "    {'hourly_total': tennet_hourly_total,\n",
    "     'hourly_mean': tennet_hourly_mean}\n",
    ")"
   ]
  },
  {
   "cell_type": "code",
   "execution_count": 69,
   "id": "prospective-trinity",
   "metadata": {},
   "outputs": [],
   "source": [
    "tennet_hourly['time'] = pd.date_range(start='08/23/2019 00:00:00', end='09/22/2020 23:00:00', freq='H')"
   ]
  },
  {
   "cell_type": "code",
   "execution_count": 70,
   "id": "naked-ecuador",
   "metadata": {},
   "outputs": [],
   "source": [
    "tennet_hourly = tennet_hourly[['time', 'hourly_total', 'hourly_mean']]"
   ]
  },
  {
   "cell_type": "code",
   "execution_count": 71,
   "id": "controlled-match",
   "metadata": {},
   "outputs": [
    {
     "data": {
      "text/plain": [
       "(9528, 3)"
      ]
     },
     "execution_count": 71,
     "metadata": {},
     "output_type": "execute_result"
    }
   ],
   "source": [
    "tennet_hourly.shape"
   ]
  },
  {
   "cell_type": "code",
   "execution_count": 72,
   "id": "caroline-karen",
   "metadata": {},
   "outputs": [
    {
     "data": {
      "text/html": [
       "<div>\n",
       "<style scoped>\n",
       "    .dataframe tbody tr th:only-of-type {\n",
       "        vertical-align: middle;\n",
       "    }\n",
       "\n",
       "    .dataframe tbody tr th {\n",
       "        vertical-align: top;\n",
       "    }\n",
       "\n",
       "    .dataframe thead th {\n",
       "        text-align: right;\n",
       "    }\n",
       "</style>\n",
       "<table border=\"1\" class=\"dataframe\">\n",
       "  <thead>\n",
       "    <tr style=\"text-align: right;\">\n",
       "      <th></th>\n",
       "      <th>time</th>\n",
       "      <th>hourly_total</th>\n",
       "      <th>hourly_mean</th>\n",
       "    </tr>\n",
       "  </thead>\n",
       "  <tbody>\n",
       "    <tr>\n",
       "      <th>0</th>\n",
       "      <td>2019-08-23 00:00:00</td>\n",
       "      <td>42.17</td>\n",
       "      <td>10.5425</td>\n",
       "    </tr>\n",
       "    <tr>\n",
       "      <th>1</th>\n",
       "      <td>2019-08-23 01:00:00</td>\n",
       "      <td>52.09</td>\n",
       "      <td>13.0225</td>\n",
       "    </tr>\n",
       "    <tr>\n",
       "      <th>2</th>\n",
       "      <td>2019-08-23 02:00:00</td>\n",
       "      <td>60.98</td>\n",
       "      <td>15.2450</td>\n",
       "    </tr>\n",
       "    <tr>\n",
       "      <th>3</th>\n",
       "      <td>2019-08-23 03:00:00</td>\n",
       "      <td>72.51</td>\n",
       "      <td>18.1275</td>\n",
       "    </tr>\n",
       "    <tr>\n",
       "      <th>4</th>\n",
       "      <td>2019-08-23 04:00:00</td>\n",
       "      <td>84.37</td>\n",
       "      <td>21.0925</td>\n",
       "    </tr>\n",
       "  </tbody>\n",
       "</table>\n",
       "</div>"
      ],
      "text/plain": [
       "                 time  hourly_total  hourly_mean\n",
       "0 2019-08-23 00:00:00         42.17      10.5425\n",
       "1 2019-08-23 01:00:00         52.09      13.0225\n",
       "2 2019-08-23 02:00:00         60.98      15.2450\n",
       "3 2019-08-23 03:00:00         72.51      18.1275\n",
       "4 2019-08-23 04:00:00         84.37      21.0925"
      ]
     },
     "execution_count": 72,
     "metadata": {},
     "output_type": "execute_result"
    }
   ],
   "source": [
    "tennet_hourly.head()"
   ]
  },
  {
   "cell_type": "code",
   "execution_count": 73,
   "id": "valuable-forty",
   "metadata": {},
   "outputs": [],
   "source": [
    "tennet_hourly.to_csv('./TenneTTSO_hourly.csv', index=False)"
   ]
  },
  {
   "cell_type": "markdown",
   "id": "balanced-justice",
   "metadata": {},
   "source": [
    "## TransnetBW"
   ]
  },
  {
   "cell_type": "code",
   "execution_count": 55,
   "id": "czech-integer",
   "metadata": {},
   "outputs": [],
   "source": [
    "file_transpose_daily('./TransnetBW.csv', './TransnetBW_daily.csv')"
   ]
  },
  {
   "cell_type": "code",
   "execution_count": 56,
   "id": "collaborative-script",
   "metadata": {},
   "outputs": [
    {
     "data": {
      "text/plain": [
       "(397, 1)"
      ]
     },
     "execution_count": 56,
     "metadata": {},
     "output_type": "execute_result"
    }
   ],
   "source": [
    "transnet_daily = pd.read_csv('TransnetBW_daily.csv', header=None, names=['daily_power_twh'])\n",
    "transnet_daily.shape"
   ]
  },
  {
   "cell_type": "code",
   "execution_count": 58,
   "id": "micro-label",
   "metadata": {},
   "outputs": [
    {
     "data": {
      "text/html": [
       "<div>\n",
       "<style scoped>\n",
       "    .dataframe tbody tr th:only-of-type {\n",
       "        vertical-align: middle;\n",
       "    }\n",
       "\n",
       "    .dataframe tbody tr th {\n",
       "        vertical-align: top;\n",
       "    }\n",
       "\n",
       "    .dataframe thead th {\n",
       "        text-align: right;\n",
       "    }\n",
       "</style>\n",
       "<table border=\"1\" class=\"dataframe\">\n",
       "  <thead>\n",
       "    <tr style=\"text-align: right;\">\n",
       "      <th></th>\n",
       "      <th>daily_power_twh</th>\n",
       "    </tr>\n",
       "  </thead>\n",
       "  <tbody>\n",
       "    <tr>\n",
       "      <th>0</th>\n",
       "      <td>1291.94</td>\n",
       "    </tr>\n",
       "    <tr>\n",
       "      <th>1</th>\n",
       "      <td>660.47</td>\n",
       "    </tr>\n",
       "    <tr>\n",
       "      <th>2</th>\n",
       "      <td>76.63</td>\n",
       "    </tr>\n",
       "    <tr>\n",
       "      <th>3</th>\n",
       "      <td>174.12</td>\n",
       "    </tr>\n",
       "    <tr>\n",
       "      <th>4</th>\n",
       "      <td>279.39</td>\n",
       "    </tr>\n",
       "  </tbody>\n",
       "</table>\n",
       "</div>"
      ],
      "text/plain": [
       "   daily_power_twh\n",
       "0          1291.94\n",
       "1           660.47\n",
       "2            76.63\n",
       "3           174.12\n",
       "4           279.39"
      ]
     },
     "execution_count": 58,
     "metadata": {},
     "output_type": "execute_result"
    }
   ],
   "source": [
    "transnet_daily.head()"
   ]
  },
  {
   "cell_type": "code",
   "execution_count": 33,
   "id": "mathematical-durham",
   "metadata": {},
   "outputs": [],
   "source": [
    "file_transpose('./TransnetBW.csv', './TransnetBW_out.csv')"
   ]
  },
  {
   "cell_type": "code",
   "execution_count": 34,
   "id": "antique-richardson",
   "metadata": {},
   "outputs": [],
   "source": [
    "transnet_qtr_hour_pwr = pd.read_csv('./TransnetBW_out.csv', header=None, names=['power_twh'])"
   ]
  },
  {
   "cell_type": "code",
   "execution_count": 35,
   "id": "described-going",
   "metadata": {},
   "outputs": [
    {
     "data": {
      "text/plain": [
       "(38112, 1)"
      ]
     },
     "execution_count": 35,
     "metadata": {},
     "output_type": "execute_result"
    }
   ],
   "source": [
    "transnet_qtr_hour_pwr.shape"
   ]
  },
  {
   "cell_type": "code",
   "execution_count": 36,
   "id": "spectacular-faculty",
   "metadata": {},
   "outputs": [
    {
     "data": {
      "text/html": [
       "<div>\n",
       "<style scoped>\n",
       "    .dataframe tbody tr th:only-of-type {\n",
       "        vertical-align: middle;\n",
       "    }\n",
       "\n",
       "    .dataframe tbody tr th {\n",
       "        vertical-align: top;\n",
       "    }\n",
       "\n",
       "    .dataframe thead th {\n",
       "        text-align: right;\n",
       "    }\n",
       "</style>\n",
       "<table border=\"1\" class=\"dataframe\">\n",
       "  <thead>\n",
       "    <tr style=\"text-align: right;\">\n",
       "      <th></th>\n",
       "      <th>power_twh</th>\n",
       "    </tr>\n",
       "  </thead>\n",
       "  <tbody>\n",
       "    <tr>\n",
       "      <th>0</th>\n",
       "      <td>1.44</td>\n",
       "    </tr>\n",
       "    <tr>\n",
       "      <th>1</th>\n",
       "      <td>1.38</td>\n",
       "    </tr>\n",
       "    <tr>\n",
       "      <th>2</th>\n",
       "      <td>1.38</td>\n",
       "    </tr>\n",
       "    <tr>\n",
       "      <th>3</th>\n",
       "      <td>1.50</td>\n",
       "    </tr>\n",
       "    <tr>\n",
       "      <th>4</th>\n",
       "      <td>1.77</td>\n",
       "    </tr>\n",
       "  </tbody>\n",
       "</table>\n",
       "</div>"
      ],
      "text/plain": [
       "   power_twh\n",
       "0       1.44\n",
       "1       1.38\n",
       "2       1.38\n",
       "3       1.50\n",
       "4       1.77"
      ]
     },
     "execution_count": 36,
     "metadata": {},
     "output_type": "execute_result"
    }
   ],
   "source": [
    "transnet_qtr_hour_pwr.head()"
   ]
  },
  {
   "cell_type": "code",
   "execution_count": 45,
   "id": "applied-happening",
   "metadata": {},
   "outputs": [],
   "source": [
    "transnet_hourly_total = transnet_qtr_hour_pwr['power_twh'].groupby(transnet_qtr_hour_pwr['power_twh'].index // 4).sum()"
   ]
  },
  {
   "cell_type": "code",
   "execution_count": 46,
   "id": "bearing-accident",
   "metadata": {},
   "outputs": [],
   "source": [
    "transnet_hourly_mean = transnet_qtr_hour_pwr['power_twh'].groupby(transnet_qtr_hour_pwr['power_twh'].index // 4).mean()"
   ]
  },
  {
   "cell_type": "code",
   "execution_count": 47,
   "id": "basic-asbestos",
   "metadata": {},
   "outputs": [],
   "source": [
    "transnet_hourly = pd.DataFrame(\n",
    "    {'hourly_total': transnet_hourly_total,\n",
    "     'hourly_mean': transnet_hourly_mean}\n",
    ")"
   ]
  },
  {
   "cell_type": "code",
   "execution_count": 48,
   "id": "wireless-nickel",
   "metadata": {},
   "outputs": [],
   "source": [
    "transnet_hourly['time'] = pd.date_range(start='08/23/2019 00:00:00', end='09/22/2020 23:00:00', freq='H')"
   ]
  },
  {
   "cell_type": "code",
   "execution_count": 49,
   "id": "bacterial-ordering",
   "metadata": {},
   "outputs": [],
   "source": [
    "transnet_hourly = transnet_hourly[['time', 'hourly_total', 'hourly_mean']]"
   ]
  },
  {
   "cell_type": "code",
   "execution_count": 50,
   "id": "promotional-istanbul",
   "metadata": {},
   "outputs": [
    {
     "data": {
      "text/plain": [
       "(9528, 3)"
      ]
     },
     "execution_count": 50,
     "metadata": {},
     "output_type": "execute_result"
    }
   ],
   "source": [
    "transnet_hourly.shape"
   ]
  },
  {
   "cell_type": "code",
   "execution_count": 51,
   "id": "julian-grocery",
   "metadata": {},
   "outputs": [
    {
     "data": {
      "text/html": [
       "<div>\n",
       "<style scoped>\n",
       "    .dataframe tbody tr th:only-of-type {\n",
       "        vertical-align: middle;\n",
       "    }\n",
       "\n",
       "    .dataframe tbody tr th {\n",
       "        vertical-align: top;\n",
       "    }\n",
       "\n",
       "    .dataframe thead th {\n",
       "        text-align: right;\n",
       "    }\n",
       "</style>\n",
       "<table border=\"1\" class=\"dataframe\">\n",
       "  <thead>\n",
       "    <tr style=\"text-align: right;\">\n",
       "      <th></th>\n",
       "      <th>time</th>\n",
       "      <th>hourly_total</th>\n",
       "      <th>hourly_mean</th>\n",
       "    </tr>\n",
       "  </thead>\n",
       "  <tbody>\n",
       "    <tr>\n",
       "      <th>0</th>\n",
       "      <td>2019-08-23 00:00:00</td>\n",
       "      <td>5.70</td>\n",
       "      <td>1.4250</td>\n",
       "    </tr>\n",
       "    <tr>\n",
       "      <th>1</th>\n",
       "      <td>2019-08-23 01:00:00</td>\n",
       "      <td>8.06</td>\n",
       "      <td>2.0150</td>\n",
       "    </tr>\n",
       "    <tr>\n",
       "      <th>2</th>\n",
       "      <td>2019-08-23 02:00:00</td>\n",
       "      <td>13.28</td>\n",
       "      <td>3.3200</td>\n",
       "    </tr>\n",
       "    <tr>\n",
       "      <th>3</th>\n",
       "      <td>2019-08-23 03:00:00</td>\n",
       "      <td>25.96</td>\n",
       "      <td>6.4900</td>\n",
       "    </tr>\n",
       "    <tr>\n",
       "      <th>4</th>\n",
       "      <td>2019-08-23 04:00:00</td>\n",
       "      <td>44.73</td>\n",
       "      <td>11.1825</td>\n",
       "    </tr>\n",
       "  </tbody>\n",
       "</table>\n",
       "</div>"
      ],
      "text/plain": [
       "                 time  hourly_total  hourly_mean\n",
       "0 2019-08-23 00:00:00          5.70       1.4250\n",
       "1 2019-08-23 01:00:00          8.06       2.0150\n",
       "2 2019-08-23 02:00:00         13.28       3.3200\n",
       "3 2019-08-23 03:00:00         25.96       6.4900\n",
       "4 2019-08-23 04:00:00         44.73      11.1825"
      ]
     },
     "execution_count": 51,
     "metadata": {},
     "output_type": "execute_result"
    }
   ],
   "source": [
    "transnet_hourly.head()"
   ]
  },
  {
   "cell_type": "code",
   "execution_count": 52,
   "id": "received-cruise",
   "metadata": {},
   "outputs": [],
   "source": [
    "transnet_hourly.to_csv('./TransnetBW_hourly.csv', index=False)"
   ]
  },
  {
   "cell_type": "markdown",
   "id": "dirty-title",
   "metadata": {},
   "source": [
    "### 50Hertz"
   ]
  },
  {
   "cell_type": "code",
   "execution_count": 18,
   "id": "extended-validation",
   "metadata": {},
   "outputs": [],
   "source": [
    "hertz_daily_output_path = \"./50Hertz_daily_out.csv\"\n",
    "\n",
    "file_transpose_daily(input_file_path=input_file_path, output_file_path=hertz_daily_output_path)"
   ]
  },
  {
   "cell_type": "code",
   "execution_count": 22,
   "id": "creative-adelaide",
   "metadata": {},
   "outputs": [
    {
     "data": {
      "text/html": [
       "<div>\n",
       "<style scoped>\n",
       "    .dataframe tbody tr th:only-of-type {\n",
       "        vertical-align: middle;\n",
       "    }\n",
       "\n",
       "    .dataframe tbody tr th {\n",
       "        vertical-align: top;\n",
       "    }\n",
       "\n",
       "    .dataframe thead th {\n",
       "        text-align: right;\n",
       "    }\n",
       "</style>\n",
       "<table border=\"1\" class=\"dataframe\">\n",
       "  <thead>\n",
       "    <tr style=\"text-align: right;\">\n",
       "      <th></th>\n",
       "      <th>daily_power_twh</th>\n",
       "    </tr>\n",
       "  </thead>\n",
       "  <tbody>\n",
       "    <tr>\n",
       "      <th>0</th>\n",
       "      <td>2949</td>\n",
       "    </tr>\n",
       "    <tr>\n",
       "      <th>1</th>\n",
       "      <td>5944</td>\n",
       "    </tr>\n",
       "    <tr>\n",
       "      <th>2</th>\n",
       "      <td>7359</td>\n",
       "    </tr>\n",
       "    <tr>\n",
       "      <th>3</th>\n",
       "      <td>3880</td>\n",
       "    </tr>\n",
       "    <tr>\n",
       "      <th>4</th>\n",
       "      <td>4460</td>\n",
       "    </tr>\n",
       "    <tr>\n",
       "      <th>...</th>\n",
       "      <td>...</td>\n",
       "    </tr>\n",
       "    <tr>\n",
       "      <th>392</th>\n",
       "      <td>4619</td>\n",
       "    </tr>\n",
       "    <tr>\n",
       "      <th>393</th>\n",
       "      <td>7521</td>\n",
       "    </tr>\n",
       "    <tr>\n",
       "      <th>394</th>\n",
       "      <td>6755</td>\n",
       "    </tr>\n",
       "    <tr>\n",
       "      <th>395</th>\n",
       "      <td>3473</td>\n",
       "    </tr>\n",
       "    <tr>\n",
       "      <th>396</th>\n",
       "      <td>3443</td>\n",
       "    </tr>\n",
       "  </tbody>\n",
       "</table>\n",
       "<p>397 rows × 1 columns</p>\n",
       "</div>"
      ],
      "text/plain": [
       "     daily_power_twh\n",
       "0               2949\n",
       "1               5944\n",
       "2               7359\n",
       "3               3880\n",
       "4               4460\n",
       "..               ...\n",
       "392             4619\n",
       "393             7521\n",
       "394             6755\n",
       "395             3473\n",
       "396             3443\n",
       "\n",
       "[397 rows x 1 columns]"
      ]
     },
     "execution_count": 22,
     "metadata": {},
     "output_type": "execute_result"
    }
   ],
   "source": [
    "pd.read_csv(hertz_daily_output_path, header=None, names=['daily_power_twh'])"
   ]
  },
  {
   "cell_type": "code",
   "execution_count": 74,
   "id": "straight-sudan",
   "metadata": {},
   "outputs": [],
   "source": [
    "hertz_qtr_hour_pwr = pd.read_csv('./50Hertz_out.csv', header=None, names=['power_twh'])"
   ]
  },
  {
   "cell_type": "code",
   "execution_count": 75,
   "id": "later-glasgow",
   "metadata": {},
   "outputs": [
    {
     "data": {
      "text/html": [
       "<div>\n",
       "<style scoped>\n",
       "    .dataframe tbody tr th:only-of-type {\n",
       "        vertical-align: middle;\n",
       "    }\n",
       "\n",
       "    .dataframe tbody tr th {\n",
       "        vertical-align: top;\n",
       "    }\n",
       "\n",
       "    .dataframe thead th {\n",
       "        text-align: right;\n",
       "    }\n",
       "</style>\n",
       "<table border=\"1\" class=\"dataframe\">\n",
       "  <thead>\n",
       "    <tr style=\"text-align: right;\">\n",
       "      <th></th>\n",
       "      <th>power_twh</th>\n",
       "    </tr>\n",
       "  </thead>\n",
       "  <tbody>\n",
       "    <tr>\n",
       "      <th>0</th>\n",
       "      <td>74</td>\n",
       "    </tr>\n",
       "    <tr>\n",
       "      <th>1</th>\n",
       "      <td>73</td>\n",
       "    </tr>\n",
       "    <tr>\n",
       "      <th>2</th>\n",
       "      <td>63</td>\n",
       "    </tr>\n",
       "    <tr>\n",
       "      <th>3</th>\n",
       "      <td>55</td>\n",
       "    </tr>\n",
       "  </tbody>\n",
       "</table>\n",
       "</div>"
      ],
      "text/plain": [
       "   power_twh\n",
       "0         74\n",
       "1         73\n",
       "2         63\n",
       "3         55"
      ]
     },
     "execution_count": 75,
     "metadata": {},
     "output_type": "execute_result"
    }
   ],
   "source": [
    "hertz_qtr_hour_pwr.head(4)"
   ]
  },
  {
   "cell_type": "code",
   "execution_count": 76,
   "id": "coupled-military",
   "metadata": {},
   "outputs": [],
   "source": [
    "hertz_hourly_total = hertz_qtr_hour_pwr['power_twh'].groupby(qtr_hour_pwr['power_twh'].index // 4).sum()"
   ]
  },
  {
   "cell_type": "code",
   "execution_count": 77,
   "id": "strategic-sleep",
   "metadata": {},
   "outputs": [],
   "source": [
    "hertz_hourly_mean = hertz_qtr_hour_pwr['power_twh'].groupby(qtr_hour_pwr['power_twh'].index // 4).mean()"
   ]
  },
  {
   "cell_type": "code",
   "execution_count": 79,
   "id": "forbidden-feelings",
   "metadata": {},
   "outputs": [],
   "source": [
    "hertz_hourly = pd.DataFrame(\n",
    "    {'hourly_total': hertz_hourly_total,\n",
    "     'hourly_mean': hertz_hourly_mean}\n",
    ")"
   ]
  },
  {
   "cell_type": "code",
   "execution_count": 80,
   "id": "russian-cathedral",
   "metadata": {},
   "outputs": [],
   "source": [
    "hertz_hourly['time'] = pd.date_range(start='08/23/2019 00:00:00', end='09/22/2020 23:00:00', freq='H')"
   ]
  },
  {
   "cell_type": "code",
   "execution_count": 81,
   "id": "unnecessary-boards",
   "metadata": {},
   "outputs": [],
   "source": [
    "hertz_hourly = hertz_hourly[['time', 'hourly_total', 'hourly_mean']]"
   ]
  },
  {
   "cell_type": "code",
   "execution_count": 82,
   "id": "broke-relationship",
   "metadata": {},
   "outputs": [
    {
     "data": {
      "text/plain": [
       "(9528, 3)"
      ]
     },
     "execution_count": 82,
     "metadata": {},
     "output_type": "execute_result"
    }
   ],
   "source": [
    "hertz_hourly.shape"
   ]
  },
  {
   "cell_type": "code",
   "execution_count": 83,
   "id": "international-guarantee",
   "metadata": {},
   "outputs": [
    {
     "data": {
      "text/html": [
       "<div>\n",
       "<style scoped>\n",
       "    .dataframe tbody tr th:only-of-type {\n",
       "        vertical-align: middle;\n",
       "    }\n",
       "\n",
       "    .dataframe tbody tr th {\n",
       "        vertical-align: top;\n",
       "    }\n",
       "\n",
       "    .dataframe thead th {\n",
       "        text-align: right;\n",
       "    }\n",
       "</style>\n",
       "<table border=\"1\" class=\"dataframe\">\n",
       "  <thead>\n",
       "    <tr style=\"text-align: right;\">\n",
       "      <th></th>\n",
       "      <th>time</th>\n",
       "      <th>hourly_total</th>\n",
       "      <th>hourly_mean</th>\n",
       "    </tr>\n",
       "  </thead>\n",
       "  <tbody>\n",
       "    <tr>\n",
       "      <th>0</th>\n",
       "      <td>2019-08-23 00:00:00</td>\n",
       "      <td>265</td>\n",
       "      <td>66.25</td>\n",
       "    </tr>\n",
       "    <tr>\n",
       "      <th>1</th>\n",
       "      <td>2019-08-23 01:00:00</td>\n",
       "      <td>210</td>\n",
       "      <td>52.50</td>\n",
       "    </tr>\n",
       "    <tr>\n",
       "      <th>2</th>\n",
       "      <td>2019-08-23 02:00:00</td>\n",
       "      <td>157</td>\n",
       "      <td>39.25</td>\n",
       "    </tr>\n",
       "    <tr>\n",
       "      <th>3</th>\n",
       "      <td>2019-08-23 03:00:00</td>\n",
       "      <td>122</td>\n",
       "      <td>30.50</td>\n",
       "    </tr>\n",
       "    <tr>\n",
       "      <th>4</th>\n",
       "      <td>2019-08-23 04:00:00</td>\n",
       "      <td>113</td>\n",
       "      <td>28.25</td>\n",
       "    </tr>\n",
       "  </tbody>\n",
       "</table>\n",
       "</div>"
      ],
      "text/plain": [
       "                 time  hourly_total  hourly_mean\n",
       "0 2019-08-23 00:00:00           265        66.25\n",
       "1 2019-08-23 01:00:00           210        52.50\n",
       "2 2019-08-23 02:00:00           157        39.25\n",
       "3 2019-08-23 03:00:00           122        30.50\n",
       "4 2019-08-23 04:00:00           113        28.25"
      ]
     },
     "execution_count": 83,
     "metadata": {},
     "output_type": "execute_result"
    }
   ],
   "source": [
    "hertz_hourly.head()"
   ]
  },
  {
   "cell_type": "code",
   "execution_count": 68,
   "id": "lovely-wisdom",
   "metadata": {},
   "outputs": [],
   "source": [
    "hertz_hourly.to_csv(path+'/50Hertz_hourly.csv', index=False)"
   ]
  }
 ],
 "metadata": {
  "kernelspec": {
   "display_name": "Python 3",
   "language": "python",
   "name": "python3"
  },
  "language_info": {
   "codemirror_mode": {
    "name": "ipython",
    "version": 3
   },
   "file_extension": ".py",
   "mimetype": "text/x-python",
   "name": "python",
   "nbconvert_exporter": "python",
   "pygments_lexer": "ipython3",
   "version": "3.7.4"
  }
 },
 "nbformat": 4,
 "nbformat_minor": 5
}
